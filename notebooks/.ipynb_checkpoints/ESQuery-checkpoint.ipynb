{
 "cells": [
  {
   "cell_type": "code",
   "execution_count": 1,
   "id": "cc03ebf8-2ea6-4ba3-851d-3dabfd3f82f3",
   "metadata": {},
   "outputs": [
    {
     "name": "stdout",
     "output_type": "stream",
     "text": [
      "Collecting elasticsearch==8.10.1\n",
      "  Downloading elasticsearch-8.10.1-py3-none-any.whl (409 kB)\n",
      "\u001b[2K     \u001b[90m━━━━━━━━━━━━━━━━━━━━━━━━━━━━━━━━━━━━━━━\u001b[0m \u001b[32m409.3/409.3 kB\u001b[0m \u001b[31m2.5 MB/s\u001b[0m eta \u001b[36m0:00:00\u001b[0m00:01\u001b[0m00:01\u001b[0m\n",
      "\u001b[?25hCollecting elastic-transport<9,>=8\n",
      "  Downloading elastic_transport-8.17.1-py3-none-any.whl (64 kB)\n",
      "\u001b[2K     \u001b[90m━━━━━━━━━━━━━━━━━━━━━━━━━━━━━━━━━━━━━━━━\u001b[0m \u001b[32m65.0/65.0 kB\u001b[0m \u001b[31m2.2 MB/s\u001b[0m eta \u001b[36m0:00:00\u001b[0m\n",
      "\u001b[?25hRequirement already satisfied: certifi in /opt/conda/lib/python3.9/site-packages (from elastic-transport<9,>=8->elasticsearch==8.10.1) (2022.9.24)\n",
      "Requirement already satisfied: urllib3<3,>=1.26.2 in /opt/conda/lib/python3.9/site-packages (from elastic-transport<9,>=8->elasticsearch==8.10.1) (1.26.11)\n",
      "Installing collected packages: elastic-transport, elasticsearch\n",
      "Successfully installed elastic-transport-8.17.1 elasticsearch-8.10.1\n"
     ]
    }
   ],
   "source": [
    "!pip install elasticsearch==8.10.1"
   ]
  },
  {
   "cell_type": "code",
   "execution_count": 2,
   "id": "4c079504-cf73-4059-9116-3de4fa1df1fe",
   "metadata": {},
   "outputs": [],
   "source": [
    "from elasticsearch import Elasticsearch"
   ]
  },
  {
   "cell_type": "code",
   "execution_count": 3,
   "id": "d09c8f55-c755-4d86-a6b9-a8564b0d0619",
   "metadata": {},
   "outputs": [],
   "source": [
    "es = Elasticsearch(hosts = [\"http://elasticsearch:9200\"])"
   ]
  },
  {
   "cell_type": "code",
   "execution_count": 4,
   "id": "9d0f51b5-fbb0-466c-8d78-4621d1e20b8e",
   "metadata": {},
   "outputs": [
    {
     "data": {
      "text/plain": [
       "True"
      ]
     },
     "execution_count": 4,
     "metadata": {},
     "output_type": "execute_result"
    }
   ],
   "source": [
    "es.ping()"
   ]
  },
  {
   "cell_type": "code",
   "execution_count": 5,
   "id": "ff456486-1e54-4a8c-a033-b1136cebd1ad",
   "metadata": {},
   "outputs": [
    {
     "data": {
      "text/plain": [
       "<Elasticsearch(['http://elasticsearch:9200'])>"
      ]
     },
     "execution_count": 5,
     "metadata": {},
     "output_type": "execute_result"
    }
   ],
   "source": [
    "es"
   ]
  },
  {
   "cell_type": "code",
   "execution_count": 6,
   "id": "cc8b4bd1-4b48-476a-a1a1-3506530a044a",
   "metadata": {},
   "outputs": [],
   "source": [
    "# creating dev index for testing purposes\n",
    "index_name = \"hwinfo_dev_v2\"\n",
    "\n",
    "settings = {\n",
    "    \"settings\": {\n",
    "        \"number_of_shards\": 1,\n",
    "        \"number_of_replicas\": 0\n",
    "    },\n",
    "    \"mappings\": {\n",
    "        \"properties\": {\n",
    "            \"systemId\": {\"type\": \"keyword\"},\n",
    "            \"username\": {\"type\": \"keyword\"},\n",
    "            \"timestamp\": {\"type\": \"date\"},\n",
    "\n",
    "            # CPU Metrics\n",
    "            \"Core_VIDs_avg_V\": {\"type\": \"double\"},\n",
    "            \"Core_Clocks_avg_MHz\": {\"type\": \"integer\"},\n",
    "            \"Ring_LLC_Clock_MHz\": {\"type\": \"double\"},\n",
    "            \"Core_Usage_avg_percent\": {\"type\": \"double\"},\n",
    "            \"Core_Temperatures_avg_C\": {\"type\": \"double\"},\n",
    "            \"Core_Distance_to_TjMAX_avg_C\": {\"type\": \"double\"},\n",
    "            \"CPU_Package_C\": {\"type\": \"integer\"},\n",
    "            \"CPU_Package_Power_W\": {\"type\": \"double\"},\n",
    "            \"PL1_Power_Limit_Static_W\": {\"type\": \"double\"},\n",
    "            \"PL1_Power_Limit_Dynamic_W\": {\"type\": \"double\"},\n",
    "            \"PL2_Power_Limit_Static_W\": {\"type\": \"double\"},\n",
    "            \"PL2_Power_Limit_Dynamic_W\": {\"type\": \"double\"},\n",
    "            \"CPU_FAN_RPM\": {\"type\": \"integer\"},\n",
    "            \"GPU_FAN_RPM\": {\"type\": \"integer\"},\n",
    "\n",
    "            # GPU Metrics\n",
    "            \"GPU_Temperature\": {\"type\": \"double\"},\n",
    "            \"GPU_Thermal_Limit\": {\"type\": \"double\"},\n",
    "            \"GPU_Core_Voltage\": {\"type\": \"double\"},\n",
    "            \"GPU_Power\": {\"type\": \"double\"},\n",
    "            \"GPU_Clock\": {\"type\": \"double\"},\n",
    "            \"GPU_Core_Load\": {\"type\": \"double\"},\n",
    "            \"GPU_Memory_Usage\": {\"type\": \"double\"}\n",
    "        }\n",
    "    }\n",
    "}\n"
   ]
  },
  {
   "cell_type": "code",
   "execution_count": 7,
   "id": "2c8c6d1c-0657-4c8f-8bcb-107a2df3f2ec",
   "metadata": {},
   "outputs": [
    {
     "data": {
      "text/plain": [
       "ObjectApiResponse({'acknowledged': True, 'shards_acknowledged': True, 'index': 'hwinfo_dev_v2'})"
      ]
     },
     "execution_count": 7,
     "metadata": {},
     "output_type": "execute_result"
    }
   ],
   "source": [
    "es.indices.create(index = index_name, body = settings)"
   ]
  },
  {
   "cell_type": "code",
   "execution_count": 8,
   "id": "9684d7f7-53c0-4941-a445-3acf7f54d8a0",
   "metadata": {},
   "outputs": [
    {
     "name": "stdout",
     "output_type": "stream",
     "text": [
      "{'hwinfo_dev_v2': {'mappings': {'properties': {'CPU_FAN_RPM': {'type': 'integer'}, 'CPU_Package_C': {'type': 'integer'}, 'CPU_Package_Power_W': {'type': 'double'}, 'Core_Clocks_avg_MHz': {'type': 'integer'}, 'Core_Distance_to_TjMAX_avg_C': {'type': 'double'}, 'Core_Temperatures_avg_C': {'type': 'double'}, 'Core_Usage_avg_percent': {'type': 'double'}, 'Core_VIDs_avg_V': {'type': 'double'}, 'GPU_Clock': {'type': 'double'}, 'GPU_Core_Load': {'type': 'double'}, 'GPU_Core_Voltage': {'type': 'double'}, 'GPU_FAN_RPM': {'type': 'integer'}, 'GPU_Memory_Usage': {'type': 'double'}, 'GPU_Power': {'type': 'double'}, 'GPU_Temperature': {'type': 'double'}, 'GPU_Thermal_Limit': {'type': 'double'}, 'PL1_Power_Limit_Dynamic_W': {'type': 'double'}, 'PL1_Power_Limit_Static_W': {'type': 'double'}, 'PL2_Power_Limit_Dynamic_W': {'type': 'double'}, 'PL2_Power_Limit_Static_W': {'type': 'double'}, 'Ring_LLC_Clock_MHz': {'type': 'double'}, 'systemId': {'type': 'keyword'}, 'timestamp': {'type': 'date'}, 'username': {'type': 'keyword'}}}}}\n"
     ]
    }
   ],
   "source": [
    "print(es.indices.get_mapping(index = index_name))"
   ]
  },
  {
   "cell_type": "code",
   "execution_count": null,
   "id": "48518924-bce8-484d-9ab6-6b183da25ce5",
   "metadata": {},
   "outputs": [],
   "source": []
  }
 ],
 "metadata": {
  "kernelspec": {
   "display_name": "Python 3 (ipykernel)",
   "language": "python",
   "name": "python3"
  },
  "language_info": {
   "codemirror_mode": {
    "name": "ipython",
    "version": 3
   },
   "file_extension": ".py",
   "mimetype": "text/x-python",
   "name": "python",
   "nbconvert_exporter": "python",
   "pygments_lexer": "ipython3",
   "version": "3.9.13"
  }
 },
 "nbformat": 4,
 "nbformat_minor": 5
}
