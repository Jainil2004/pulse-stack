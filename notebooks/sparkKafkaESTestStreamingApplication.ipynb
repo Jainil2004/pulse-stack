{
 "cells": [
  {
   "cell_type": "code",
   "execution_count": 1,
   "id": "033d4581-6c7e-4305-a26e-975adf8024bc",
   "metadata": {},
   "outputs": [],
   "source": [
    "from pyspark.sql import SparkSession\n",
    "from pyspark.sql.types import *\n",
    "from pyspark.sql.functions import col, split, trim\n",
    "from pyspark.sql.functions import regexp_replace\n",
    "from pyspark.sql.functions import split, from_json, to_timestamp, avg, window\n",
    "from pyspark.ml import PipelineModel"
   ]
  },
  {
   "cell_type": "code",
   "execution_count": 2,
   "id": "4b8d6688-3f1f-4bf1-a20d-f55a0eff5cb7",
   "metadata": {},
   "outputs": [],
   "source": [
    "spark = SparkSession.builder \\\n",
    "        .appName(\"sparkKafkaESStatefulStreamingApplication\") \\\n",
    "        .config(\"spark.jars.packages\", \"org.apache.spark:spark-sql-kafka-0-10_2.12:3.3.2,org.elasticsearch:elasticsearch-spark-30_2.12:8.10.1\") \\\n",
    "        .config(\"spark.sql.streaming.statefulOperator.checkCorrectness.enabled\", \"false\") \\\n",
    "        .getOrCreate()"
   ]
  },
  {
   "cell_type": "code",
   "execution_count": 3,
   "id": "cfa22a83-b1a9-4a19-9435-ad80af1236d1",
   "metadata": {},
   "outputs": [
    {
     "data": {
      "text/html": [
       "\n",
       "            <div>\n",
       "                <p><b>SparkSession - in-memory</b></p>\n",
       "                \n",
       "        <div>\n",
       "            <p><b>SparkContext</b></p>\n",
       "\n",
       "            <p><a href=\"http://f33d1f5e4d9d:4040\">Spark UI</a></p>\n",
       "\n",
       "            <dl>\n",
       "              <dt>Version</dt>\n",
       "                <dd><code>v3.3.0</code></dd>\n",
       "              <dt>Master</dt>\n",
       "                <dd><code>local[*]</code></dd>\n",
       "              <dt>AppName</dt>\n",
       "                <dd><code>sparkKafkaESStatefulStreamingApplication</code></dd>\n",
       "            </dl>\n",
       "        </div>\n",
       "        \n",
       "            </div>\n",
       "        "
      ],
      "text/plain": [
       "<pyspark.sql.session.SparkSession at 0x7b77f6d6bf70>"
      ]
     },
     "execution_count": 3,
     "metadata": {},
     "output_type": "execute_result"
    }
   ],
   "source": [
    "spark"
   ]
  },
  {
   "cell_type": "code",
   "execution_count": 4,
   "id": "bf483db4-8cd5-4dcb-b960-a2830869ba83",
   "metadata": {},
   "outputs": [],
   "source": [
    "schema = StructType([\n",
    "    StructField(\"systemId\", StringType()),\n",
    "    StructField(\"username\", StringType()),\n",
    "    StructField(\"timestamp\", StringType()),\n",
    "    StructField(\"Core_VIDs_avg_V\", DoubleType(), True),\n",
    "    StructField(\"Core_Clocks_avg_MHz\", DoubleType(), True),\n",
    "    StructField(\"Ring_LLC_Clock_MHz\", DoubleType(), True),\n",
    "    StructField(\"Core_Usage_avg_percent\", DoubleType(), True),\n",
    "    StructField(\"Core_Temperatures_avg_C\", DoubleType(), True),\n",
    "    StructField(\"Core_Distance_to_TjMAX_avg_C\", DoubleType(), True),\n",
    "    StructField(\"CPU_Package_C\", DoubleType(), True),\n",
    "    StructField(\"CPU_Package_Power_W\", DoubleType(), True),\n",
    "    StructField(\"PL1_Power_Limit_Static_W\", DoubleType(), True),\n",
    "    StructField(\"PL1_Power_Limit_Dynamic_W\", DoubleType(), True),\n",
    "    StructField(\"PL2_Power_Limit_Static_W\", DoubleType(), True),\n",
    "    StructField(\"PL2_Power_Limit_Dynamic_W\", DoubleType(), True),\n",
    "    StructField(\"CPU_FAN_RPM\", DoubleType(), True),\n",
    "    StructField(\"GPU_FAN_RPM\", DoubleType(), True),\n",
    "    StructField(\"GPU_Temperature\", DoubleType(), True),\n",
    "    StructField(\"GPU_Thermal_Limit\", DoubleType(), True),\n",
    "    StructField(\"GPU_Core_Voltage\", DoubleType(), True),\n",
    "    StructField(\"GPU_Power\", DoubleType(), True),\n",
    "    StructField(\"GPU_Clock\", DoubleType(), True),\n",
    "    StructField(\"GPU_Core_Load\", DoubleType(), True),\n",
    "    StructField(\"GPU_Memory_Usage\", DoubleType(), True)\n",
    "])"
   ]
  },
  {
   "cell_type": "code",
   "execution_count": 5,
   "id": "7db56d12-31e4-48b6-aee6-9b1308cf0579",
   "metadata": {},
   "outputs": [],
   "source": [
    "bootstrap_server = \"kafka:9092\"\n",
    "kafka_topic = \"metricsIngestion\"\n",
    "\n",
    "df = spark.readStream.format(\"kafka\") \\\n",
    "    .option(\"kafka.bootstrap.servers\", bootstrap_server) \\\n",
    "    .option(\"subscribe\", kafka_topic) \\\n",
    "    .load()"
   ]
  },
  {
   "cell_type": "code",
   "execution_count": 6,
   "id": "4a4724bd-ba9b-4e02-85f3-5ad546945128",
   "metadata": {},
   "outputs": [],
   "source": [
    "from pyspark.sql.functions import from_json, col, to_timestamp\n",
    "\n",
    "json_df = df.selectExpr(\"CAST(value AS STRING) as json_string\")\n",
    "\n",
    "parsed_df = json_df.select(from_json(col(\"json_string\"), schema).alias(\"data\")).select(\"data.*\")\n",
    "\n",
    "df_with_delta = parsed_df.withColumn(\"GPU_Temperature_Delta\", col(\"GPU_Thermal_Limit\") - col(\"GPU_Temperature\"))\n",
    "\n",
    "df_with_delta = df_with_delta.withColumn(\"timestamp\", to_timestamp(\"timestamp\"))\n"
   ]
  },
  {
   "cell_type": "code",
   "execution_count": 7,
   "id": "6664bf2c-dbde-4379-836b-86104e5cb9b1",
   "metadata": {},
   "outputs": [],
   "source": [
    "# query = df_with_delta.writeStream.outputMode(\"append\").format(\"console\").option(\"truncate\", False).start()"
   ]
  },
  {
   "cell_type": "code",
   "execution_count": 8,
   "id": "24f35e86-25e0-477f-a4f4-b17c0dbc9b38",
   "metadata": {},
   "outputs": [],
   "source": [
    "# query.stop()"
   ]
  },
  {
   "cell_type": "code",
   "execution_count": 9,
   "id": "ded0661a-d935-4f3e-add9-3231690104a2",
   "metadata": {},
   "outputs": [],
   "source": [
    "# Combined required features for both models\n",
    "cpu_required_cols = [\n",
    "    \"Core_VIDs_avg_V\", \"Core_Clocks_avg_MHz\", \"Ring_LLC_Clock_MHz\",\n",
    "    \"Core_Usage_avg_percent\", \"Core_Temperatures_avg_C\", \"Core_Distance_to_TjMAX_avg_C\",\n",
    "    \"CPU_Package_C\", \"CPU_Package_Power_W\",\n",
    "    \"PL1_Power_Limit_Static_W\", \"PL1_Power_Limit_Dynamic_W\",\n",
    "    \"PL2_Power_Limit_Static_W\", \"PL2_Power_Limit_Dynamic_W\"\n",
    "]\n",
    "\n",
    "gpu_required_cols = [\n",
    "    \"GPU_Temperature\", \"GPU_Core_Voltage\", \"GPU_Power\", \"GPU_Clock\",\n",
    "    \"GPU_Core_Load\", \"GPU_Memory_Usage\", \"GPU_Temperature_Delta\"\n",
    "]\n",
    "\n",
    "# Combine them\n",
    "all_required_cols = list(set(cpu_required_cols + gpu_required_cols))\n",
    "\n",
    "# Drop any rows with nulls in critical input features\n",
    "df_cleaned = df_with_delta.na.drop(subset=all_required_cols)\n"
   ]
  },
  {
   "cell_type": "code",
   "execution_count": 10,
   "id": "569c0fa5-bfaa-41eb-8282-1c774c0e365f",
   "metadata": {},
   "outputs": [],
   "source": [
    "# stateful 5 minute aggregations\n",
    "# stateful_df = parsed_df \\\n",
    "# .withWatermark(\"timestamp\", \"6 minutes\") \\\n",
    "# .groupBy(\n",
    "#     col(\"systemId\"),\n",
    "#     window(col(\"timestamp\"), \"5 minutes\", \"1 minute\")\n",
    "# ) \\\n",
    "# .agg(\n",
    "#     avg(\"cpucoreUsage\").alias(\"5_min_core_usage_avg\"),\n",
    "#     avg(\"cpupackageTemperature\").alias(\"5_min_core_temp_avg\")\n",
    "# ) \\\n",
    "# .withColumn(\"high_core_utility\", col(\"5_min_core_usage_avg\") > 80)\n",
    "\n",
    "# result_df = stateful_df.selectExpr(\n",
    "#     \"systemId\", \n",
    "#     \"username\",\n",
    "#     \"timestamp\",\n",
    "#     \"cpucoreVid\", \n",
    "#     \"cpucoreClocks\", \n",
    "#     \"cpucoreUsage\", \n",
    "#     \"cpupackageTemperature\", \n",
    "#     \"cpupackagePower\"\n",
    "# )\n",
    "\n",
    "\n",
    "# Compute stateful 5-min aggregations per system\n",
    "# agg_df = parsed_df \\\n",
    "#     .withWatermark(\"timestamp\", \"6 minutes\") \\\n",
    "#     .groupBy(\n",
    "#         col(\"systemId\"),\n",
    "#         window(col(\"timestamp\"), \"5 minutes\", \"1 minute\")\n",
    "#     ) \\\n",
    "#     .agg(\n",
    "#         avg(\"cpucoreUsage\").alias(\"5_min_core_usage_avg\"),\n",
    "#         avg(\"cpupackageTemperature\").alias(\"5_min_core_temp_avg\")\n",
    "#     )\n",
    "\n",
    "# # Flatten for join\n",
    "# flattened_agg = agg_df.selectExpr(\n",
    "#     \"systemId\",\n",
    "#     \"window.start as window_start\",\n",
    "#     \"window.end as window_end\",\n",
    "#     \"5_min_core_usage_avg\",\n",
    "#     \"5_min_core_temp_avg\"\n",
    "# )\n",
    "\n",
    "\n",
    "# # Join with original parsed_df to get full row + state\n",
    "# joined = parsed_df \\\n",
    "#     .join(flattened_agg,\n",
    "#           (parsed_df[\"systemId\"] == flattened_agg[\"systemId\"]) &\n",
    "#           (parsed_df[\"timestamp\"] >= flattened_agg[\"window_start\"]) &\n",
    "#           (parsed_df[\"timestamp\"] < flattened_agg[\"window_end\"])\n",
    "#          ) \\\n",
    "#     .drop(\"systemId\", \"window_start\", \"window_end\")\n",
    "\n",
    "# # Add final flag column\n",
    "# final_df = joined.withColumn(\"high_core_utility\", col(\"5_min_core_usage_avg\") > 80)"
   ]
  },
  {
   "cell_type": "code",
   "execution_count": 11,
   "id": "92c6297b-df81-4943-b6d6-c434aaddd90c",
   "metadata": {},
   "outputs": [],
   "source": [
    "# model = PipelineModel.load(\"model1\")\n",
    "\n",
    "# feature_columns = [\n",
    "#     \"Core_VIDs_avg_V\", \"Core_Clocks_avg_MHz\", \"Ring_LLC_Clock_MHz\",\n",
    "#     \"Core_Usage_avg_percent\", \"Core_Temperatures_avg_C\", \"Core_Distance_to_TjMAX_avg_C\",\n",
    "#     \"CPU_Package_C\", \"CPU_Package_Power_W\", \"PL1_Power_Limit_Static_W\",\n",
    "#     \"PL1_Power_Limit_Dynamic_W\", \"PL2_Power_Limit_Static_W\", \"PL2_Power_Limit_Dynamic_W\"\n",
    "# ]\n",
    "\n",
    "# df_for_model = parsed_df.select(*feature_columns)\n",
    "\n",
    "# df_with_prediction = model.transform(parsed_df) \\\n",
    "#     .withColumnRenamed(\"prediction\", \"Core_Thermal_Throttling\") \\\n",
    "#     .select(\n",
    "#         \"systemId\", \"username\", \"timestamp\",\n",
    "#         \"Core_VIDs_avg_V\", \"Core_Clocks_avg_MHz\", \"Ring_LLC_Clock_MHz\",\n",
    "#         \"Core_Usage_avg_percent\", \"Core_Temperatures_avg_C\", \"Core_Distance_to_TjMAX_avg_C\",\n",
    "#         \"CPU_Package_C\", \"CPU_Package_Power_W\", \"PL1_Power_Limit_Static_W\",\n",
    "#         \"PL1_Power_Limit_Dynamic_W\", \"PL2_Power_Limit_Static_W\", \"PL2_Power_Limit_Dynamic_W\",\n",
    "#         \"CPU_FAN_RPM\", \"GPU_FAN_RPM\",\n",
    "#         \"Core_Thermal_Throttling\"\n",
    "#     )"
   ]
  },
  {
   "cell_type": "code",
   "execution_count": 12,
   "id": "be1f40d1-723f-49be-afa2-d423b96607bf",
   "metadata": {},
   "outputs": [],
   "source": [
    "# 6️⃣ Load models\n",
    "cpu_model = PipelineModel.load(\"model1\")\n",
    "gpu_model = PipelineModel.load(\"gpu_optimal_pipeline_LR_V2\")"
   ]
  },
  {
   "cell_type": "code",
   "execution_count": 13,
   "id": "3c9210b3-72d9-4402-a1e7-96a4f24c0b7c",
   "metadata": {},
   "outputs": [],
   "source": [
    "# 7️⃣ Run CPU model first\n",
    "df_with_cpu = cpu_model.transform(df_cleaned) \\\n",
    "    .withColumnRenamed(\"prediction\", \"Core_Thermal_Throttling\")"
   ]
  },
  {
   "cell_type": "code",
   "execution_count": 14,
   "id": "082db77e-b15a-4f75-92b1-e40aa969fe8c",
   "metadata": {},
   "outputs": [],
   "source": [
    "# 9️⃣ Run GPU model next\n",
    "df_with_gpu = gpu_model.transform(df_with_cpu) \\\n",
    "    .withColumnRenamed(\"gpu_prediction\", \"GPU_Optimal_Performance\")"
   ]
  },
  {
   "cell_type": "code",
   "execution_count": 15,
   "id": "279c72a5-4962-44c7-b7b6-41b7f488fd1f",
   "metadata": {},
   "outputs": [],
   "source": [
    "# 🔟 Final selection of fields\n",
    "df_final = df_with_gpu.select(\n",
    "    \"systemId\", \"username\", \"timestamp\",\n",
    "    \"Core_VIDs_avg_V\", \"Core_Clocks_avg_MHz\", \"Ring_LLC_Clock_MHz\", \"Core_Usage_avg_percent\",\n",
    "    \"Core_Temperatures_avg_C\", \"Core_Distance_to_TjMAX_avg_C\", \"CPU_Package_C\", \"CPU_Package_Power_W\",\n",
    "    \"PL1_Power_Limit_Static_W\", \"PL1_Power_Limit_Dynamic_W\", \"PL2_Power_Limit_Static_W\", \"PL2_Power_Limit_Dynamic_W\",\n",
    "    \"CPU_FAN_RPM\", \"GPU_FAN_RPM\",\n",
    "    \"GPU_Temperature\", \"GPU_Thermal_Limit\", \"GPU_Core_Voltage\", \"GPU_Power\",\n",
    "    \"GPU_Clock\", \"GPU_Core_Load\", \"GPU_Memory_Usage\", \"GPU_Temperature_Delta\",\n",
    "    \"Core_Thermal_Throttling\", \"GPU_Optimal_Performance\"\n",
    ")"
   ]
  },
  {
   "cell_type": "code",
   "execution_count": 16,
   "id": "271e90c8-9505-4ebe-94a6-ae8c4bfd3cb9",
   "metadata": {},
   "outputs": [],
   "source": [
    "# testing output before sending to final destionation at elasticsearch\n",
    "query = df_final.writeStream.outputMode(\"append\").format(\"console\").option(\"truncate\", False).start()"
   ]
  },
  {
   "cell_type": "code",
   "execution_count": 18,
   "id": "4556d09f-0045-4009-800d-448fbfb2b747",
   "metadata": {},
   "outputs": [],
   "source": [
    "query.stop()"
   ]
  },
  {
   "cell_type": "code",
   "execution_count": 16,
   "id": "dc55e4b3-21e5-4bd0-a523-4ff57526950a",
   "metadata": {},
   "outputs": [],
   "source": [
    "# beginning writing to elasticsearch\n",
    "resource = \"hwinfo_dev_v2\" # elasticsearch dev testing index\n",
    "port = 9200\n",
    "\n",
    "es_writestream = df_final.writeStream \\\n",
    "    .outputMode(\"append\") \\\n",
    "    .format(\"org.elasticsearch.spark.sql\") \\\n",
    "    .option(\"es.nodes\", \"elasticsearch\") \\\n",
    "    .option(\"es.port\", port) \\\n",
    "    .option(\"es.resource\", resource) \\\n",
    "    .option(\"es.net.ssl\", \"false\") \\\n",
    "    .option(\"checkpointLocation\", \"/tmp/spark-checkpoints\") \\\n",
    "    .start()"
   ]
  },
  {
   "cell_type": "code",
   "execution_count": 17,
   "id": "e3a171af-0bb5-49a1-8871-1482cac91e5f",
   "metadata": {},
   "outputs": [],
   "source": [
    "es_writestream.stop()"
   ]
  },
  {
   "cell_type": "code",
   "execution_count": null,
   "id": "de731cad-8e7b-4036-a8c2-6053fff7fa08",
   "metadata": {},
   "outputs": [],
   "source": []
  }
 ],
 "metadata": {
  "kernelspec": {
   "display_name": "Python 3 (ipykernel)",
   "language": "python",
   "name": "python3"
  },
  "language_info": {
   "codemirror_mode": {
    "name": "ipython",
    "version": 3
   },
   "file_extension": ".py",
   "mimetype": "text/x-python",
   "name": "python",
   "nbconvert_exporter": "python",
   "pygments_lexer": "ipython3",
   "version": "3.9.13"
  }
 },
 "nbformat": 4,
 "nbformat_minor": 5
}
